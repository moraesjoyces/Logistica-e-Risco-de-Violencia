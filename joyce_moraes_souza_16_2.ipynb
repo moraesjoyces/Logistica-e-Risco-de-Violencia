{
  "cells": [
    {
      "cell_type": "markdown",
      "metadata": {
        "id": "KJqp9AANOCtf"
      },
      "source": [
        "<img src=\"https://raw.githubusercontent.com/andre-marcos-perez/ebac-course-utils/main/media/logo/newebac_logo_black_half.png\" alt=\"ebac-logo\">\n",
        "\n",
        "---\n",
        "\n",
        "# **Módulo** | Análise de Dados: Análise Exploratória de Dados de Logística II\n",
        "Caderno de **Exercícios**<br>\n",
        "Professor [André Perez](https://www.linkedin.com/in/andremarcosperez/)\n",
        "\n",
        "---"
      ]
    },
    {
      "cell_type": "markdown",
      "metadata": {
        "id": "d9jDtUbDOE1-"
      },
      "source": [
        "# **Tópicos**\n",
        "\n",
        "<ol type=\"1\">\n",
        "  <li>Manipulação;</li>\n",
        "  <li>Visualização;</li>\n",
        "  <li>Storytelling.</li>\n",
        "</ol>\n"
      ]
    },
    {
      "cell_type": "markdown",
      "metadata": {
        "id": "SmoHgt-lwkpD"
      },
      "source": [
        "---"
      ]
    },
    {
      "cell_type": "markdown",
      "metadata": {
        "id": "GABI6OW8OfQ2"
      },
      "source": [
        "# **Exercícios**"
      ]
    },
    {
      "cell_type": "markdown",
      "metadata": {
        "id": "muD1vxozykSC"
      },
      "source": [
        "Este *notebook* deve servir como um guia para **você continuar** a construção da sua própria análise exploratória de dados. Fique a vontate para copiar os códigos da aula mas busque explorar os dados ao máximo. Por fim, publique seu *notebook* no [Kaggle](https://www.kaggle.com/)."
      ]
    },
    {
      "cell_type": "markdown",
      "metadata": {
        "id": "zMN1Q3jdwoJm"
      },
      "source": [
        "---"
      ]
    },
    {
      "cell_type": "markdown",
      "metadata": {
        "id": "QRcqbpLpFK5o"
      },
      "source": [
        "# **Análise Exploratória de Dados de Logística**"
      ]
    },
    {
      "cell_type": "markdown",
      "metadata": {
        "id": "6-CvdKwqFPiW"
      },
      "source": [
        "## 1\\. Contexto, storytelling e insights"
      ]
    },
    {
      "cell_type": "markdown",
      "metadata": {
        "id": "JX0f1KGQeqHz"
      },
      "source": [
        "Uma vez que vamos analisar os dados das entregas da Loggi no Distrito Federal por hub, temos à nossa disposição informações valiosas para compreender melhor a situação logística da empresa. No total, temos 636.149 entregas registradas, divididas entre os três hubs do DF.\n",
        "\n",
        "Os dados fornecem informações cruciais, como a latitude e longitude tanto dos hubs quanto das entregas, a capacidade de cada hub e o tamanho dos pacotes. Essas informações estão armazenadas em formato .json, com dados aninhados que precisam ser normalizados para facilitar a análise.\n",
        "\n",
        "Após a normalização dos dados, é possível enriquecê-los por meio da geolocalização reversa, que nos permitirá obter o endereço exato de cada entrega. Essa etapa é fundamental para uma compreensão mais abrangente do contexto logístico.\n",
        "\n",
        "É importante ressaltar que a violência pode ter impactos significativos nas operações logísticas de uma empresa, exigindo adaptações para otimizar a eficiência das entregas, reduzir riscos de roubo de carga, danos à infraestrutura e restrições de movimentação, além de diminuir os custos envolvidos.\n",
        "\n",
        "Com o objetivo de avaliar o grau de violência em cada região administrativa do Distrito Federal, obtivemos dados sobre ocorrências criminais e vítimas disponíveis no site do Ministério da Justiça. Essas ocorrências incluem estupro, furto de veículos, homicídio doloso, lesão corporal seguida de morte, roubo à instituição financeira, roubo de carga, roubo de veículos e roubo seguido de morte, abrangendo o período de janeiro de 2018 a dezembro de 2022. Essa abrangência temporal nos fornece uma visão abrangente da violência e criminalidade em cada região administrativa.\n",
        "\n",
        "Para uma análise mais recente, selecionamos apenas os dados consolidados por região administrativa referentes ao ano de 2022. No entanto, como a quantidade de casos de violência é apresentada em números absolutos, torna-se difícil compará-los diretamente, uma vez que a população entre as regiões administrativas varia consideravelmente. Por essa razão, foi necessário obter o número de casos por milhão de habitantes. A informação sobre o número de habitantes foi obtida por meio dos dados do Censo de 2010, uma vez que os dados do Censo de 2022 por região administrativa ainda não estão disponíveis.\n",
        "\n",
        "Durante essa análise, tivemos que realizar um processo de correspondência entre os nomes das regiões administrativas. Os dados obtidos por meio da geolocalização reversa e do site do Ministério da Justiça trouxeram informações de \"cidades\" e regiões administrativas que não estavam presentes no Censo de 2010. Isso ocorreu porque, em alguns casos, a geolocalização reversa forneceu informações sobre o \"bairro\" ou a \"vila\" no campo \"delivery-city\". Além disso, ao longo dos anos, algumas regiões administrativas foram desmembradas, o que exigiu considerar essas áreas como parte da região administrativa vigente em 2010 para fins de compatibilidade dos dados.\n",
        "\n",
        "Após obter o número de casos de violência por milhão de habitantes, foi possível criar uma \"Escala de violência\" com classificações de 1 a 5 para cada região administrativa. Essa escala facilitará a visualização dos níveis de violência em cada região e fornecerá uma base sólida para tomadas de decisão.\n",
        "\n",
        "As visualizações geradas a partir desses dados demonstram que a maioria das entregas é realizada em regiões classificadas como nível 1 e 2 na escala de violência. Além disso, observou-se que as entregas são mais frequentes em regiões classificadas como nível 5 em comparação com as de nível 4. No entanto, é importante ressaltar que as entregas realizadas nessas áreas de maior violência podem exigir práticas adicionais de segurança, como maior monitoramento e rastreamento, rotas e horários alternativos, bem como treinamento aprimorado da equipe para lidar com situações de violência e até mesmo escolta armada. Essas medidas visam garantir a segurança das operações logísticas, minimizando os riscos associados."
      ]
    },
    {
      "cell_type": "markdown",
      "metadata": {
        "id": "QxukLHaqFnkU"
      },
      "source": [
        "## 2\\. Pacotes e bibliotecas"
      ]
    },
    {
      "cell_type": "code",
      "execution_count": null,
      "metadata": {
        "id": "VXUEW0VrF7XW"
      },
      "outputs": [],
      "source": [
        "!pip install unidecode\n",
        "# importe todas as suas bibliotecas aqui, siga os padrões do PEP8:\n",
        "\n",
        "# - 1º pacotes nativos do python: json, os, etc.;\n",
        "import datetime\n",
        "import json\n",
        "import os\n",
        "import re\n",
        "from urllib import request\n",
        "\n",
        "# - 2º pacotes de terceiros: pandas, seaborn etc.;\n",
        "import geopy\n",
        "import numpy as np\n",
        "import pandas as pd\n",
        "import requests\n",
        "import seaborn as sns\n",
        "from bs4 import BeautifulSoup\n",
        "from geopy.extra.rate_limiter import RateLimiter\n",
        "from geopy.geocoders import Nominatim\n",
        "from unidecode import unidecode\n",
        "\n",
        "# - 3º pacotes que você desenvolveu."
      ]
    },
    {
      "cell_type": "markdown",
      "metadata": {
        "id": "irQxHW1zGkdZ"
      },
      "source": [
        "## 3\\. Exploração de dados"
      ]
    },
    {
      "cell_type": "code",
      "execution_count": null,
      "metadata": {
        "id": "lxLj8e0GHAnr"
      },
      "outputs": [],
      "source": [
        "# faça o código de exploração de dados:\n",
        "#\n",
        "# - coleta de dados;\n",
        "!wget -q \"https://raw.githubusercontent.com/andre-marcos-perez/ebac-course-utils/main/dataset/deliveries.json\" -O deliveries.json\n",
        "with open(\"deliveries.json\", mode=\"r\", encoding=\"utf8\") as file:\n",
        "  data = json.load(file)\n",
        "\n",
        "# - wrangling da estrutura;\n",
        "deliveries_df = pd.DataFrame(data)\n",
        "hub_origin_df = pd.json_normalize(deliveries_df[\"origin\"])\n",
        "deliveries_df = pd.merge(left=deliveries_df, right=hub_origin_df, how=\"inner\", left_index=True, right_index=True)\n",
        "deliveries_df = deliveries_df.drop(\"origin\", axis=1)\n",
        "deliveries_df = deliveries_df[[\"name\", \"region\", \"lng\", \"lat\", \"vehicle_capacity\", \"deliveries\"]]\n",
        "deliveries_df.rename(columns={\"lng\": \"hub_lng\", \"lat\": \"hub_lat\"}, inplace=True)\n",
        "deliveries_exploded_df = deliveries_df[[\"deliveries\"]].explode(\"deliveries\")\n",
        "deliveries_normalized_df = pd.concat([\n",
        "  pd.DataFrame(deliveries_exploded_df[\"deliveries\"].apply(lambda record: record[\"size\"])).rename(columns={\"deliveries\": \"delivery_size\"}),\n",
        "  pd.DataFrame(deliveries_exploded_df[\"deliveries\"].apply(lambda record: record[\"point\"][\"lng\"])).rename(columns={\"deliveries\": \"delivery_lng\"}),\n",
        "  pd.DataFrame(deliveries_exploded_df[\"deliveries\"].apply(lambda record: record[\"point\"][\"lat\"])).rename(columns={\"deliveries\": \"delivery_lat\"}),\n",
        "], axis= 1)\n",
        "deliveries_df = deliveries_df.drop(\"deliveries\", axis=1)\n",
        "deliveries_df = pd.merge(left=deliveries_df, right=deliveries_normalized_df, how=\"right\", left_index=True, right_index=True)\n",
        "deliveries_df.reset_index(inplace=True, drop=True)\n"
      ]
    },
    {
      "cell_type": "code",
      "execution_count": null,
      "metadata": {
        "id": "DRkxWDLdfaLs"
      },
      "outputs": [],
      "source": [
        "# - exploração do schema;\n",
        "deliveries_df.head(n=5)"
      ]
    },
    {
      "cell_type": "code",
      "execution_count": null,
      "metadata": {
        "id": "nXd9OOgefgK8"
      },
      "outputs": [],
      "source": [
        "deliveries_df.dtypes"
      ]
    },
    {
      "cell_type": "code",
      "execution_count": null,
      "metadata": {
        "id": "qisWXTM5fh1L"
      },
      "outputs": [],
      "source": [
        "deliveries_df.select_dtypes(\"object\").describe().transpose()"
      ]
    },
    {
      "cell_type": "code",
      "execution_count": null,
      "metadata": {
        "id": "iKK7WXOWfjRy"
      },
      "outputs": [],
      "source": [
        "deliveries_df.select_dtypes(\"int64\").describe().transpose()"
      ]
    },
    {
      "cell_type": "code",
      "execution_count": null,
      "metadata": {
        "id": "8WfwihAGfkli"
      },
      "outputs": [],
      "source": [
        "# - etc.\n",
        "deliveries_df.isna().any()"
      ]
    },
    {
      "cell_type": "markdown",
      "metadata": {
        "id": "98hexQTyJS9I"
      },
      "source": [
        "## 4\\. Manipulação"
      ]
    },
    {
      "cell_type": "code",
      "execution_count": null,
      "metadata": {
        "id": "DXU4Ee0QJS9Q"
      },
      "outputs": [],
      "source": [
        "# faça o código de manipulação de dados:\n",
        "#\n",
        "# - enriquecimento;\n",
        "hub_df = deliveries_df[[\"region\", \"hub_lng\", \"hub_lat\"]]\n",
        "hub_df = hub_df.drop_duplicates().sort_values(by=\"region\").reset_index(drop=True)\n",
        "hub_df.head()"
      ]
    },
    {
      "cell_type": "code",
      "execution_count": null,
      "metadata": {
        "id": "X4fpzxnhhlUA"
      },
      "outputs": [],
      "source": [
        "geolocator = Nominatim(user_agent=\"ebac_geocode\")\n",
        "location = geolocator.reverse(\"-15.657013854445248, -47.802664728268745\")\n",
        "\n",
        "print(json.dumps(location.raw, indent=2, ensure_ascii=False))"
      ]
    },
    {
      "cell_type": "code",
      "execution_count": null,
      "metadata": {
        "id": "3_CAYkbhhpQB"
      },
      "outputs": [],
      "source": [
        "geocoder = RateLimiter(geolocator.reverse, min_delay_seconds=1)"
      ]
    },
    {
      "cell_type": "code",
      "execution_count": null,
      "metadata": {
        "id": "NfCE_qUIhrEw"
      },
      "outputs": [],
      "source": [
        "hub_df[\"coordinates\"] = hub_df[\"hub_lat\"].astype(str)  + \", \" + hub_df[\"hub_lng\"].astype(str)\n",
        "hub_df[\"geodata\"] = hub_df[\"coordinates\"].apply(geocoder)\n",
        "hub_df.head()"
      ]
    },
    {
      "cell_type": "code",
      "execution_count": null,
      "metadata": {
        "id": "eXYV46oXhsxI"
      },
      "outputs": [],
      "source": [
        "hub_geodata_df = pd.json_normalize(hub_df[\"geodata\"].apply(lambda data: data.raw))\n",
        "hub_geodata_df.head()"
      ]
    },
    {
      "cell_type": "code",
      "execution_count": null,
      "metadata": {
        "id": "HnZP9vkNiGoE"
      },
      "outputs": [],
      "source": [
        "hub_geodata_df = hub_geodata_df[[\"address.town\", \"address.suburb\", \"address.city\"]]\n",
        "hub_geodata_df.rename(columns={\"address.town\": \"hub_town\", \"address.suburb\": \"hub_suburb\", \"address.city\": \"hub_city\"}, inplace=True)\n",
        "hub_geodata_df[\"hub_city\"] = np.where(hub_geodata_df[\"hub_city\"].notna(), hub_geodata_df[\"hub_city\"], hub_geodata_df[\"hub_town\"])\n",
        "hub_geodata_df[\"hub_suburb\"] = np.where(hub_geodata_df[\"hub_suburb\"].notna(), hub_geodata_df[\"hub_suburb\"], hub_geodata_df[\"hub_city\"])\n",
        "hub_geodata_df = hub_geodata_df.drop(\"hub_town\", axis=1)\n",
        "hub_geodata_df.head()"
      ]
    },
    {
      "cell_type": "code",
      "execution_count": null,
      "metadata": {
        "id": "dIh_wHWkiI76"
      },
      "outputs": [],
      "source": [
        "hub_df = pd.merge(left=hub_df, right=hub_geodata_df, left_index=True, right_index=True)\n",
        "hub_df = hub_df[[\"region\", \"hub_suburb\", \"hub_city\"]]\n",
        "hub_df.head()"
      ]
    },
    {
      "cell_type": "code",
      "execution_count": null,
      "metadata": {
        "id": "3xfqVANPiLKD"
      },
      "outputs": [],
      "source": [
        "deliveries_df = pd.merge(left=deliveries_df, right=hub_df, how=\"inner\", on=\"region\")\n",
        "deliveries_df = deliveries_df[[\"name\", \"region\", \"hub_lng\", \"hub_lat\", \"hub_city\", \"hub_suburb\", \"vehicle_capacity\", \"delivery_size\", \"delivery_lng\", \"delivery_lat\"]]\n",
        "deliveries_df.head()"
      ]
    },
    {
      "cell_type": "code",
      "execution_count": null,
      "metadata": {
        "id": "tnC030vgq0my"
      },
      "outputs": [],
      "source": [
        "!wget -q \"https://raw.githubusercontent.com/andre-marcos-perez/ebac-course-utils/main/dataset/deliveries-geodata.csv\" -O deliveries-geodata.csv"
      ]
    },
    {
      "cell_type": "code",
      "execution_count": null,
      "metadata": {
        "id": "30t6TOr8rHG9"
      },
      "outputs": [],
      "source": [
        "deliveries_geodata_df = pd.read_csv(\"deliveries-geodata.csv\")\n",
        "deliveries_geodata_df.head()"
      ]
    },
    {
      "cell_type": "code",
      "execution_count": null,
      "metadata": {
        "id": "hbkd-5EMrUT9"
      },
      "outputs": [],
      "source": [
        "deliveries_df = pd.merge(left=deliveries_df, right=deliveries_geodata_df[[\"delivery_city\", \"delivery_suburb\"]], how=\"inner\", left_index=True, right_index=True)\n",
        "deliveries_df[\"delivery_city\"] = deliveries_df[\"delivery_city\"].apply(lambda delivery_city: unidecode(str(delivery_city)).replace(\".\",\"\").upper().replace(\"AGROVILA CAFE SEM TROCO\",\"PARANOA\").replace(\"CAFE SEM TROCO\",\"PARANOA\").replace(\"SOL NASCENTE/POR DO SOL\", \"CEILANDIA\").replace(\" \",\"\").replace(\"SCIA\",\"SCIA (ESTRUTURAL)\").replace(\"BRASILIA\",\"PLANO PILOTO\").replace(\"ARNIQUEIRA\",\"AGUAS CLARAS\"))\n",
        "deliveries_df.head()\n"
      ]
    },
    {
      "cell_type": "code",
      "execution_count": null,
      "metadata": {
        "id": "6bkm5SKa14x2"
      },
      "outputs": [],
      "source": [
        "cities_df = deliveries_df[\"delivery_city\"].describe().T\n",
        "print(cities_df)"
      ]
    },
    {
      "cell_type": "code",
      "execution_count": null,
      "metadata": {
        "id": "45v_GK9RhJtK"
      },
      "outputs": [],
      "source": [
        "!wget -q \"https://github.com/smoraesjoyce/logistica_DF/raw/main/indicadoressegurancapublicamunic.xlsx\" -O indicadoressegurancapublicamunic.xlsx\n"
      ]
    },
    {
      "cell_type": "code",
      "execution_count": null,
      "metadata": {
        "id": "npUv_j7WcM9A"
      },
      "outputs": [],
      "source": [
        "df_violencia_DF = pd.read_excel(\"indicadoressegurancapublicamunic.xlsx\")\n",
        "df_violencia_DF"
      ]
    },
    {
      "cell_type": "code",
      "execution_count": null,
      "metadata": {
        "id": "vLGqMw7S7kaC"
      },
      "outputs": [],
      "source": [
        "df_violencia_DF.info()"
      ]
    },
    {
      "cell_type": "code",
      "execution_count": null,
      "metadata": {
        "id": "TxYh7K43F1Zp"
      },
      "outputs": [],
      "source": [
        "df_violencia_DF_2022 = df_violencia_DF.loc[(df_violencia_DF[\"Mês/Ano\"]>= \"2022-01-01\")]\n",
        "df_violencia_DF_2022"
      ]
    },
    {
      "cell_type": "code",
      "execution_count": null,
      "metadata": {
        "id": "5S_85E2V8YtK"
      },
      "outputs": [],
      "source": [
        "df_violencia_DF_2022[\"Município\"] = df_violencia_DF_2022[\"Município\"].apply(lambda Município: unidecode(Município.replace(\".\",\"\").replace(\"Brasília\",\"PLANO PILOTO\").replace(\"Sol Nascente/Pôr Do Sol\", \"CEILANDIA\").replace(\"Arniqueira\",\"AGUAS CLARAS\").upper()))\n",
        "df_violencia_DF_2022"
      ]
    },
    {
      "cell_type": "code",
      "execution_count": null,
      "metadata": {
        "id": "PBhXkZznfwn2"
      },
      "outputs": [],
      "source": [
        "df_violencia_DF_2022 = df_violencia_DF_2022[[\"Município\",\"Vítimas\"]].groupby(\"Município\").agg(\"sum\").reset_index(drop=False)\n",
        "df_violencia_DF_2022"
      ]
    },
    {
      "cell_type": "code",
      "execution_count": null,
      "metadata": {
        "id": "JSQCZC0Rluv9"
      },
      "outputs": [],
      "source": [
        "!wget -q \"https://raw.githubusercontent.com/smoraesjoyce/logistica_DF/f6994a13439c627c60de632c2cb9e2fef3fda8ed/Censo_Populacional_2010.csv\" -O populacao_DF.csv"
      ]
    },
    {
      "cell_type": "code",
      "execution_count": null,
      "metadata": {
        "id": "6bMulfwB2LoF"
      },
      "outputs": [],
      "source": [
        "df_populacao_DF = pd.read_csv(\"populacao_DF.csv\")\n",
        "df_populacao_DF = df_populacao_DF.rename(columns={\"ra\": \"Município\"})\n",
        "df_populacao_DF[\"Município\"] = df_populacao_DF[\"Município\"].apply(lambda Município: unidecode(Município).replace(\".\",\"\").replace(\"SCIA\",\"SCIA (ESTRUTURAL)\").replace(\"BRASILIA\",\"PLANO PILOTO\").replace(\"SOL NASCENTE/POR DO SOL\", \"CEILANDIA\").upper())\n",
        "df_populacao_DF = df_populacao_DF[[\"Município\",\"pop_total\"]]\n",
        "df_populacao_DF"
      ]
    },
    {
      "cell_type": "code",
      "execution_count": null,
      "metadata": {
        "id": "yGHJ4MYd21iO"
      },
      "outputs": [],
      "source": [
        "df_violencia_DF_2022 = pd.merge(left=df_populacao_DF, right=df_violencia_DF_2022, on=\"Município\",how=\"outer\")\n",
        "df_violencia_DF_2022"
      ]
    },
    {
      "cell_type": "code",
      "execution_count": null,
      "metadata": {
        "id": "tLZBOj0Z9MVm"
      },
      "outputs": [],
      "source": [
        "df_violencia_DF_2022.isnull().any()"
      ]
    },
    {
      "cell_type": "code",
      "execution_count": null,
      "metadata": {
        "id": "p9AWYXtlCO2L"
      },
      "outputs": [],
      "source": [
        "df_violencia_DF_2022[\"violencia_por_milhão_habitantes\"] = df_violencia_DF_2022[\"Vítimas\"] / df_violencia_DF_2022[\"pop_total\"] * 1000000\n",
        "df_violencia_DF_2022\n"
      ]
    },
    {
      "cell_type": "code",
      "execution_count": null,
      "metadata": {
        "id": "0pJs9CidDZJl"
      },
      "outputs": [],
      "source": [
        "df_violencia_DF_2022[[\"violencia_por_milhão_habitantes\"]].describe().T"
      ]
    },
    {
      "cell_type": "code",
      "execution_count": null,
      "metadata": {
        "id": "LcX2oLjLQk5R"
      },
      "outputs": [],
      "source": [
        "#@title\n",
        "df_violencia_DF_2022.loc[df_violencia_DF_2022[\"violencia_por_milhão_habitantes\"] >160, \"escala_de_violencia\"] = 5\n",
        "df_violencia_DF_2022.loc[df_violencia_DF_2022[\"violencia_por_milhão_habitantes\"] <=160, \"escala_de_violencia\"] = 4\n",
        "df_violencia_DF_2022.loc[df_violencia_DF_2022[\"violencia_por_milhão_habitantes\"] <=120, \"escala_de_violencia\"] = 3\n",
        "df_violencia_DF_2022.loc[df_violencia_DF_2022[\"violencia_por_milhão_habitantes\"] <=80, \"escala_de_violencia\"] = 2\n",
        "df_violencia_DF_2022.loc[df_violencia_DF_2022[\"violencia_por_milhão_habitantes\"]<=40, \"escala_de_violencia\"] = 1\n",
        "df_violencia_DF_2022 = df_violencia_DF_2022.rename(columns={\"Município\": \"delivery_city\"})\n",
        "df_violencia_DF_2022 = df_violencia_DF_2022[[\"delivery_city\", \"escala_de_violencia\"]]\n",
        "df_violencia_DF_2022"
      ]
    },
    {
      "cell_type": "code",
      "execution_count": null,
      "metadata": {
        "id": "pCayvwTCuPxg"
      },
      "outputs": [],
      "source": [
        "df_violencia_DF_2022.isnull().any()"
      ]
    },
    {
      "cell_type": "code",
      "execution_count": null,
      "metadata": {
        "id": "wAVuKOPbUW7K"
      },
      "outputs": [],
      "source": [
        "deliveries_df = pd.merge(left=deliveries_df, right=df_violencia_DF_2022,on=\"delivery_city\", how=\"left\")\n",
        "deliveries_df\n",
        "deliveries_df.to_csv(\"deliveries.csv\")"
      ]
    },
    {
      "cell_type": "markdown",
      "metadata": {
        "id": "KSgjP--1JS9R"
      },
      "source": [
        "## 5\\. Visualização"
      ]
    },
    {
      "cell_type": "code",
      "execution_count": null,
      "metadata": {
        "id": "Jlj3ACWCJS9R"
      },
      "outputs": [],
      "source": [
        "# faça o código de visualização de dados:\n",
        "#\n",
        "# - produza pelo menos duas visualizações;\n",
        "# - adicione um pequeno texto com os insights encontrados;\n",
        "# - etc.\n",
        "!wget -q \"https://geoftp.ibge.gov.br/cartas_e_mapas/bases_cartograficas_continuas/bc100/go_df/versao2016/shapefile/bc100_go_df_shp.zip\" -O distrito-federal.zip\n",
        "!unzip -q distrito-federal.zip -d ./maps\n",
        "\n",
        "!cp ./maps/LIM_Unidade_Federacao_A.shp ./distrito-federal.shp\n",
        "!cp ./maps/LIM_Unidade_Federacao_A.shx ./distrito-federal.shx\n"
      ]
    },
    {
      "cell_type": "code",
      "execution_count": null,
      "metadata": {
        "id": "PqtXvSt5np-H"
      },
      "outputs": [],
      "source": [
        "!pip3 install geopandas;\n",
        "import geopandas\n",
        "import matplotlib.pyplot as plt\n"
      ]
    },
    {
      "cell_type": "code",
      "execution_count": null,
      "metadata": {
        "id": "N1OZRbH9ol9n"
      },
      "outputs": [],
      "source": [
        "geo_deliveries_df = geopandas.GeoDataFrame(deliveries_df, geometry=geopandas.points_from_xy(deliveries_df[\"delivery_lng\"], deliveries_df[\"delivery_lat\"]))\n",
        "geo_deliveries_df.head()"
      ]
    },
    {
      "cell_type": "code",
      "execution_count": null,
      "metadata": {
        "id": "LPh881Ytnmj3"
      },
      "outputs": [],
      "source": [
        "mapa = geopandas.read_file(\"distrito-federal.shp\")\n",
        "mapa = mapa.loc[[0]]\n",
        "mapa.head()\n",
        "\n",
        "# cria o plot vazio\n",
        "fig, ax = plt.subplots(figsize = (50/2.54, 50/2.54))\n",
        "\n",
        "# plot mapa do distrito federal\n",
        "mapa.plot(ax=ax, alpha=0.4, color=\"lightgrey\")\n",
        "\n",
        "# plot das entregas\n",
        "geo_deliveries_df.query(\"escala_de_violencia == 5.0\").plot(ax=ax, markersize=50, color=\"red\", label=\"5\")\n",
        "geo_deliveries_df.query(\"escala_de_violencia == 4.0\").plot(ax=ax, markersize=40, color=\"orange\", label=\"4\")\n",
        "geo_deliveries_df.query(\"escala_de_violencia == 3.0\").plot(ax=ax, markersize=30, color=\"yellow\", label=\"3\")\n",
        "geo_deliveries_df.query(\"escala_de_violencia == 2.0\").plot(ax=ax, markersize=20, color=\"green\", label=\"2\")\n",
        "geo_deliveries_df.query(\"escala_de_violencia == 1.0\").plot(ax=ax, markersize=10, color=\"blue\", label=\"1\")\n",
        "\n",
        "# plot da legenda\n",
        "plt.title(\"Entregas no Distrito Federal por Grau de Violência\", fontdict={\"fontsize\": 16})\n",
        "lgnd = plt.legend(prop={\"size\": 15})\n",
        "for handle in lgnd.legendHandles:\n",
        "    handle.set_sizes([50])"
      ]
    },
    {
      "cell_type": "code",
      "execution_count": null,
      "metadata": {
        "id": "JwWttWo4yQzC"
      },
      "outputs": [],
      "source": [
        "consol_deliveries_df = pd.DataFrame(deliveries_df[[\"escala_de_violencia\"]].value_counts()).rename(columns={0:\"numero_de_entregas\"}).reset_index()\n",
        "consol_deliveries_df"
      ]
    },
    {
      "cell_type": "code",
      "execution_count": null,
      "metadata": {
        "id": "Ux7kRzUztD8F"
      },
      "outputs": [],
      "source": [
        "with sns.axes_style(\"whitegrid\"):\n",
        "  grafico = sns.barplot(data=consol_deliveries_df, x=\"escala_de_violencia\", y=\"numero_de_entregas\", palette=\"bright\")\n",
        "  grafico.set(title=\"Entregas no Distrito Federal por Grau de violência\", xlabel=\"Escala\", ylabel=\"Entregas\");"
      ]
    }
  ],
  "metadata": {
    "colab": {
      "provenance": []
    },
    "kernelspec": {
      "display_name": "Python 3",
      "name": "python3"
    }
  },
  "nbformat": 4,
  "nbformat_minor": 0
}